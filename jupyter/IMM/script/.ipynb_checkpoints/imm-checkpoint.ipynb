{
 "cells": [
  {
   "cell_type": "code",
   "execution_count": 1,
   "metadata": {},
   "outputs": [],
   "source": [
    "#IMPORT SEMUA LIBARARY"
   ]
  },
  {
   "cell_type": "code",
   "execution_count": 2,
   "metadata": {},
   "outputs": [],
   "source": [
    "#LIBARARY PANDAS\n",
    "import pandas as pd\n",
    "#LIBARARY KONEKSI KE POSTGRE\n",
    "from sqlalchemy import create_engine\n",
    "import psycopg2\n",
    "from psycopg2.extensions import ISOLATION_LEVEL_AUTOCOMMIT\n",
    "#LIBARARY UNTUK BASEPATH\n",
    "import os"
   ]
  },
  {
   "cell_type": "code",
   "execution_count": 3,
   "metadata": {},
   "outputs": [],
   "source": [
    "#FUNGSI UNTUK UPLOAD FILE CSV KE POSTGRESQL"
   ]
  },
  {
   "cell_type": "code",
   "execution_count": 24,
   "metadata": {},
   "outputs": [],
   "source": [
    "def uploadToPSQL(columns, table, filePath, engine):\n",
    "    #MENDAPATKAN FILE DARI CSV, DISINI UNTUK HEADERNYA DISKIP DAN BAHASANYA MENGGUNAKAN UTF-8\n",
    "    df = pd.read_csv(\n",
    "        os.path.abspath(filePath),\n",
    "        names=columns,\n",
    "        skiprows=1, \n",
    "        header=None,\n",
    "        keep_default_na=False,\n",
    "        encoding='utf-8'\n",
    "    )\n",
    "    \n",
    "    #MEMFILTER DATA YANG KOSONG\n",
    "    df.fillna('')\n",
    "    #MENGAMBIL VALUE DARI ARRAY DAN DIJADIKAN VARIABLE\n",
    "    newsid= df['news_id']\n",
    "    newscode= df['news_code']\n",
    "    newslink= df['news_link']\n",
    "    newsdate= df['news_date']\n",
    "    newstitle= df['news_title']\n",
    "    #VALUE TAG HTML DIREMOVE\n",
    "    newscontent = df['news_content'].str.replace('<[^<]+?>', ' ')\n",
    "    #DATA YANG DICARI DIMASUKAN DISINI, DAPAT MENCARI LEBIH DARI 1 DATA\n",
    "    arrayfind = ['cukai', 'pemerintahan', 'kementerian']\n",
    "    wilayah = df['media_displayName']\n",
    "    strfind = ', '.join(arrayfind)\n",
    "    arraycontent = []\n",
    "    #DATA DIATAS DIJADIKAN DALAM SATU ARRAY\n",
    "    datafix = [list(list(x) for x in zip(newsid, newscode, newslink, newsdate, newstitle, newscontent, wilayah))]\n",
    "    \n",
    "    #LOOPING ATAU PERULANGAN DATA DIATAS\n",
    "    for newscontent in datafix[0]:\n",
    "        #DATA HTML DISINI DIPECAH BERDASARKAN TITIK\n",
    "        x = newscontent[5].split('.')\n",
    "        #PENCARIAN DATA\n",
    "        matching = [s for s in x if any(xs in s for xs in arrayfind)]\n",
    "        #MENCOCOKAN DATA, JIKA COCOK DATA AKAN DITAMPUNG DIVARIABLE LAGI\n",
    "        if matching != []:\n",
    "            if len(matching) > 1:\n",
    "                for matcharray in matching:\n",
    "                    arraycontent.append(tuple([matcharray, newscontent[0], newscontent[1], newscontent[2], newscontent[3], newscontent[4], strfind, newscontent[6]]))\n",
    "            else:\n",
    "                arraycontent.append(tuple([str(matching)[2:-2], newscontent[0], newscontent[1], newscontent[2], newscontent[3], newscontent[4], strfind, newscontent[6]]))\n",
    "    rawstr = str(arraycontent)[1:-1]\n",
    "    \n",
    "    #KONEKSI KE DATABASE\n",
    "    try:\n",
    "        #PENGECEKAN KONEKSI DATABASE\n",
    "        connection = psycopg2.connect(user=username,password=password,host=host,port=port,database=database)\n",
    "        cursor = connection.cursor()\n",
    "        connection.set_isolation_level(ISOLATION_LEVEL_AUTOCOMMIT);\n",
    "        #CEK APAKAH TABLE SUDAH TERSEDIA \n",
    "        cursor.execute(\"SELECT * FROM information_schema.tables where table_name=%s\", (table,))\n",
    "        exist = bool(cursor.rowcount)\n",
    "        #JIKA SUDAH TERSEDIA AKAN DIHAPUS DAN DI BUAT ULANG\n",
    "        if exist == True:\n",
    "            cursor.execute(\"DROP TABLE \"+ table + \" CASCADE\")\n",
    "            cursor.execute(\"CREATE TABLE \"+table+\" (index SERIAL, news_id varchar, news_code varchar, news_link varchar, news_date date, news_title varchar, news_content varchar, keyword varchar, wilayah varchar);\")\n",
    "        #JIKA TIDAK TERSEDIA AKAN DIBUAT\n",
    "        else:\n",
    "            cursor.execute(\"CREATE TABLE \"+table+\" (index SERIAL, news_id varchar, news_code varchar, news_link varchar, news_date date, news_title varchar, news_content varchar, keyword varchar, wilayah varchar);\")\n",
    "        #MEMASUKAN DATA KE DATABASE\n",
    "        cursor.execute('INSERT INTO '+table+'(news_content, news_id, news_code, news_link, news_date, news_title, keyword, wilayah) values ' +rawstr)\n",
    "        \n",
    "        #MELEMPAR TOTAL DATA YANG BERHASIL DIMASUKAN\n",
    "        return len(arraycontent)  \n",
    "        \n",
    "    #GAGAL KONEKSI\n",
    "    except (Exception, psycopg2.Error) as error :\n",
    "        return error\n",
    "    \n",
    "    #TUTUP KONEKSI\n",
    "    finally:\n",
    "        if(connection):\n",
    "            cursor.close()\n",
    "            connection.close()"
   ]
  },
  {
   "cell_type": "code",
   "execution_count": 25,
   "metadata": {},
   "outputs": [],
   "source": [
    "#DEFINISIKAN DATA DATA DARI SINI"
   ]
  },
  {
   "cell_type": "code",
   "execution_count": 26,
   "metadata": {},
   "outputs": [
    {
     "name": "stdout",
     "output_type": "stream",
     "text": [
      "Success, Total Data : 149\n"
     ]
    }
   ],
   "source": [
    "#DEFINISIKAN COLUMN DISINI\n",
    "columns = [\n",
    "    \"news_id\",\n",
    "    \"news_code\",\n",
    "    \"news_type\",\n",
    "    \"news_link\",\n",
    "    \"media_displayName\",\n",
    "    \"news_date\",\n",
    "    \"news_title\",\n",
    "    \"news_content\",\n",
    "    \"news_image\",\n",
    "    \"news_urlimage\",\n",
    "    \"news_created_date\",\n",
    "]\n",
    "\n",
    "#VARIABLE KONEKSI KE DATABASE\n",
    "host = \"localhost\"\n",
    "username = \"postgres\"\n",
    "password = \"1234567890\"\n",
    "port = \"5432\"\n",
    "database = \"imm\"\n",
    "table = 'newsimm'\n",
    "#MENGAMBIL FILE DARI DIREKTORY\n",
    "filePath = 'C:/Users/ASUS/Documents/bappenas/data mentah/IMM/news.csv';\n",
    "#KONEKSI KE DATABASE\n",
    "engine = create_engine('postgresql://'+username+':'+password+'@'+host+':'+port+'/'+database)\n",
    "\n",
    "#CEK KONEKSI DAN MENYIMPAN DATA KE DATABASE MELALUI FUNGSI UPLOADTOPSQL\n",
    "checkUpload = uploadToPSQL(columns, table, filePath, engine)\n",
    "#JIKA BERHASIL AKAN MUNCUL ALERT SUCCES, JIKA GAGAL AKAN MUNCUL ALERT ERROR\n",
    "if checkUpload != False:\n",
    "    print(\"Success, Total Data : \" + str(checkUpload))\n",
    "else:\n",
    "    print(\"Error When Upload CSV\")"
   ]
  }
 ],
 "metadata": {
  "kernelspec": {
   "display_name": "Python 3",
   "language": "python",
   "name": "python3"
  },
  "language_info": {
   "codemirror_mode": {
    "name": "ipython",
    "version": 3
   },
   "file_extension": ".py",
   "mimetype": "text/x-python",
   "name": "python",
   "nbconvert_exporter": "python",
   "pygments_lexer": "ipython3",
   "version": "3.8.3"
  }
 },
 "nbformat": 4,
 "nbformat_minor": 4
}
