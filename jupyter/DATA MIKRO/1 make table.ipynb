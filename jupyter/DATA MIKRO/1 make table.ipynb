{
 "cells": [
  {
   "cell_type": "markdown",
   "metadata": {},
   "source": [
    "### Import Library"
   ]
  },
  {
   "cell_type": "code",
   "execution_count": 3,
   "metadata": {},
   "outputs": [],
   "source": [
    "import pandas as pd\n",
    "import lib.wilayah.n2similarities as wn2\n",
    "import lib.kategori.n2similarities as cn2\n",
    "import lib.data.transpose as dtrans\n",
    "import os"
   ]
  },
  {
   "cell_type": "markdown",
   "metadata": {},
   "source": [
    "### Fungsi untuk membentuk layoutpath yg sudah berisikan rekomendasi"
   ]
  },
  {
   "cell_type": "code",
   "execution_count": 4,
   "metadata": {},
   "outputs": [],
   "source": [
    "def get_layoutpath_recomendation(\n",
    "        xls_wil_awal, \n",
    "        xls_wil_tujuan,\n",
    "        csv_wil_output,\n",
    "        \n",
    "        xls_cat_awal, \n",
    "        xls_cat_tujuan,\n",
    "        csv_cat_output,\n",
    "        \n",
    "        wil_provcode_method='L',\n",
    "        wil_provname_method='L',\n",
    "        wil_kotcode_method='L',\n",
    "        wil_kotname_method='L',\n",
    "        wil_keccode_method='L',\n",
    "        wil_kecname_method='L',\n",
    "        wil_kelcode_method='L',\n",
    "        wil_kelname_method='L',\n",
    "        \n",
    "        wil_provcode_weight=1,\n",
    "        wil_provname_weight=1,\n",
    "        wil_kotcode_weight=1,\n",
    "        wil_kotname_weight=1,\n",
    "        wil_keccode_weight=1,\n",
    "        wil_kecname_weight=1,\n",
    "        wil_kelcode_weight=1,\n",
    "        wil_kelname_weight=1,\n",
    "\t\twil_minimum_similar_score=13,\n",
    "        \n",
    "        cat_code_method='L',\n",
    "        cat_title_method='L',\n",
    "        cat_subcode_method='L',\n",
    "        cat_subtitle_method='L',\n",
    "        \n",
    "        cat_code_weight=1,\n",
    "        cat_title_weight=1,\n",
    "        cat_subcode_weight=1,\n",
    "        cat_subtitle_weight=1,\n",
    "\t\tcat_minimum_similar_score=7,\n",
    "        \n",
    "        print_process=True\n",
    "    ):\n",
    "    \n",
    "    #baca wilayah\n",
    "    \n",
    "    wF1 = pd.read_excel(xls_wil_awal)\n",
    "    wF2 = pd.read_excel(xls_wil_tujuan)\n",
    "    if print_process:\n",
    "        print(\"Baca wilayah done\")\n",
    "    \n",
    "    #read dan merge\n",
    "    \n",
    "    wFF = wn2.get_standard_merged(wF1, wF2)\n",
    "    if print_process:\n",
    "        print(\"Read & merge done\")\n",
    "    \n",
    "    #get similarities value\n",
    "    \n",
    "    wFF = wn2.get_similarities_value(\n",
    "        wFF, \n",
    "        method_for_provcode=wil_provcode_method, \n",
    "        method_for_provname=wil_provname_method, \n",
    "        method_for_kotcode=wil_kotcode_method, \n",
    "        method_for_kotname=wil_kotname_method, \n",
    "        method_for_keccode=wil_keccode_method, \n",
    "        method_for_kecname=wil_kecname_method, \n",
    "        method_for_kelcode=wil_kelcode_method, \n",
    "        method_for_kelname=wil_kelname_method\n",
    "    )\n",
    "    \n",
    "    if print_process:\n",
    "        print(\"Get similarities value done\")\n",
    "    \n",
    "    #get similarity score & match\n",
    "    \n",
    "    wFF = wn2.get_most_similar(wFF)\n",
    "\n",
    "    wFF = wn2.get_similarity_score(wFF, \n",
    "        provcode_weight=wil_provcode_weight, \n",
    "        provname_weight=wil_provname_weight, \n",
    "        kotcode_weight=wil_kotcode_weight, \n",
    "        kotname_weight=wil_kotname_weight, \n",
    "        keccode_weight=wil_keccode_weight, \n",
    "        kecname_weight=wil_kecname_weight, \n",
    "        kelcode_weight=wil_kelcode_weight, \n",
    "        kelname_weight=wil_kelname_weight\n",
    "    )\n",
    "\n",
    "    wFF = wn2.get_match(wFF, wil_minimum_similar_score)\n",
    "    \n",
    "    if print_process:\n",
    "        print(\"Get similarity score & match done\")\n",
    "    \n",
    "    #get recomendation\n",
    "    \n",
    "    wFF = wn2.get_recomendation(wFF)\n",
    "    \n",
    "    wFF['ACTION'] = wFF['RECOMENDATION']\n",
    "    \n",
    "    if print_process:\n",
    "        print(\"Get recomendation done\")\n",
    "    \n",
    "    #output\n",
    "    \n",
    "    wFF.to_csv(csv_wil_output, index = False)\n",
    "    \n",
    "    if print_process:\n",
    "        print(\"Send output done\")\n",
    "    \n",
    "    #baca kategori\n",
    "    \n",
    "    cF1 = pd.read_excel(xls_cat_awal)\n",
    "    cF2 = pd.read_excel(xls_cat_tujuan)\n",
    "    \n",
    "    if print_process:\n",
    "        print(\"Baca kategori done\")\n",
    "    \n",
    "    #read dan merge\n",
    "    \n",
    "    cFF = cn2.get_standard_merged(cF1, cF2)\n",
    "    \n",
    "    if print_process:\n",
    "        print(\"Read & merge done\")\n",
    "    \n",
    "    #get similarities value\n",
    "    \n",
    "    cFF = cn2.get_similarities_value(\n",
    "        cFF, \n",
    "        method_for_code=cat_code_method, \n",
    "        method_for_title=cat_title_method, \n",
    "        method_for_subcode=cat_subcode_method, \n",
    "        method_for_subtitle=cat_subtitle_method\n",
    "    )\n",
    "    \n",
    "    if print_process:\n",
    "        print(\"Get similarities value done\")\n",
    "    \n",
    "    #get similarity score & match\n",
    "    \n",
    "    cFF = cn2.get_most_similar(cFF)\n",
    "\n",
    "    cFF = cn2.get_similarity_score(\n",
    "        cFF, \n",
    "        code_weight=cat_code_weight, \n",
    "        title_weight=cat_title_weight, \n",
    "        subcode_weight=cat_subcode_weight, \n",
    "        subtitle_weight=cat_subtitle_weight\n",
    "    )\n",
    "\n",
    "    cFF = cn2.get_match(cFF, cat_minimum_similar_score)\n",
    "    \n",
    "    if print_process:\n",
    "        print(\"Get similarity score & match done\")\n",
    "    \n",
    "    #get recomendation\n",
    "    \n",
    "    cFF = cn2.get_recomendation(cFF)\n",
    "    \n",
    "    cFF['ACTION'] = cFF['RECOMENDATION']\n",
    "    \n",
    "    if print_process:\n",
    "        print(\"Get recomendation done\")\n",
    "    \n",
    "    #output\n",
    "    cFF.to_csv(csv_cat_output, index = False)\n",
    "    \n",
    "    if print_process:\n",
    "        print(\"Send output done\")"
   ]
  },
  {
   "cell_type": "markdown",
   "metadata": {},
   "source": [
    "### Mengecilkan ukuran file layoutpath\n",
    "\n",
    "Pengecilan dilakukan dengan membuang baris yg berisi action drop"
   ]
  },
  {
   "cell_type": "code",
   "execution_count": 5,
   "metadata": {},
   "outputs": [],
   "source": [
    "def minimize_layoutpath(csv_wil, csv_wil_output, csv_cat, csv_cat_output):\n",
    "    \n",
    "    #wilayah\n",
    "    \n",
    "    wFF = pd.read_csv(csv_wil, dtype={\n",
    "    'PROVCODE_A':str, 'PROVNAME_A':str, 'KOTCODE_A':str, 'KOTNAME_A':str, 'KECCODE_A':str, 'KECNAME_A':str, 'KELCODE_A':str, 'KELNAME_A':str,\n",
    "    'PROVCODE_B':str, 'PROVNAME_B':str, 'KOTCODE_B':str, 'KOTNAME_B':str, 'KECCODE_B':str, 'KECNAME_B':str, 'KELCODE_B':str, 'KELNAME_B':str,\n",
    "    'PROVCODE_SIMILARITIES':float, 'PROVNAME_SIMILARITIES':float,\n",
    "    'KOTCODE_SIMILARITIES':float, 'KOTNAME_SIMILARITIES':float,\n",
    "    'KECCODE_SIMILARITIES':float, 'KECNAME_SIMILARITIES':float,\n",
    "    'KELCODE_SIMILARITIES':float, 'KELNAME_SIMILARITIES':float,\n",
    "    'PROVCODE_MOSTSIMILAR_Aisone':bool, 'PROVNAME_MOSTSIMILAR_Aisone':bool,\t 'KOTCODE_MOSTSIMILAR_Aisone':bool, 'KOTNAME_MOSTSIMILAR_Aisone':bool, 'KECCODE_MOSTSIMILAR_Aisone':bool, 'KECNAME_MOSTSIMILAR_Aisone':bool, 'KELCODE_MOSTSIMILAR_Aisone':bool, 'KELNAME_MOSTSIMILAR_Aisone':bool,\n",
    "    'PROVCODE_MOSTSIMILAR_Bisone':bool, 'PROVNAME_MOSTSIMILAR_Bisone':bool, 'KOTCODE_MOSTSIMILAR_Bisone':bool, 'KOTNAME_MOSTSIMILAR_Bisone':bool, 'KECCODE_MOSTSIMILAR_Bisone':bool, 'KECNAME_MOSTSIMILAR_Bisone':bool, 'KELCODE_MOSTSIMILAR_Bisone':bool, 'KELNAME_MOSTSIMILAR_Bisone':bool,\n",
    "    'SIMILAR_SCORE_Aisone':int,'SIMILAR_SCORE_Bisone':int,'SIMILAR_SCORE_TOTAL':int,\n",
    "    'IS_MATCH':bool,'RECOMENDATION':str, 'ACTION':str\n",
    "    })\n",
    "    \n",
    "    wFFmin = wFF[wFF.ACTION.isin(['match', 'membelah', 'membelah-keepvalue', 'bergabung', 'newB'])].filter(['PROVCODE_A', 'PROVNAME_A', 'KOTCODE_A', 'KOTNAME_A', 'KECCODE_A', 'KECNAME_A', 'KELCODE_A', 'KELNAME_A', 'PROVCODE_B', 'PROVNAME_B', 'KOTCODE_B', 'KOTNAME_B', 'KECCODE_B', 'KECNAME_B', 'KELCODE_B', 'KELNAME_B', 'ACTION'], axis=1)\n",
    "\n",
    "    wFFmin.to_csv(csv_wil_output, index = False)\n",
    "    \n",
    "    #kategori\n",
    "    \n",
    "    cFF = pd.read_csv(csv_cat, dtype={\n",
    "    'CODE_A':str, 'TITLE_A':str, 'SUBCODE_A':str, 'SUBTITLE_A':str,\n",
    "    'CODE_B':str, 'TITLE_B':str, 'SUBCODE_B':str, 'SUBTITLE_B':str,\n",
    "    'DEPTH':int, 'CODE_SIMILARITIES':float, 'TITLE_SIMILARITIES':float,\n",
    "    'SUBCODE_SIMILARITIES':float, 'SUBTITLE_SIMILARITIES':float,\n",
    "    'CODE_MOSTSIMILAR_Aisone':bool,'TITLE_MOSTSIMILAR_Aisone':bool,'SUBCODE_MOSTSIMILAR_Aisone':bool,'SUBTITLE_MOSTSIMILAR_Aisone':bool,\n",
    "    'CODE_MOSTSIMILAR_Bisone':bool,'TITLE_MOSTSIMILAR_Bisone':bool,'SUBCODE_MOSTSIMILAR_Bisone':bool,'SUBTITLE_MOSTSIMILAR_Bisone':bool,\n",
    "    'SIMILAR_SCORE_Aisone':int,'SIMILAR_SCORE_Bisone':int,'SIMILAR_SCORE_TOTAL':int,\n",
    "    'IS_MATCH':bool,'RECOMENDATION':str, 'ACTION':str\n",
    "    })\n",
    "    \n",
    "    cFFmin = cFF[cFF.ACTION.isin(['match', 'newB'])].filter(['CODE_A', 'TITLE_A', 'SUBCODE_A', 'SUBTITLE_A', 'CODE_B', 'TITLE_B', 'SUBCODE_B', 'SUBTITLE_B', 'ACTION'], axis=1)\n",
    "\n",
    "    cFFmin.to_csv(csv_cat_output, index = False)"
   ]
  },
  {
   "cell_type": "markdown",
   "metadata": {},
   "source": [
    "### Mentranspose data berdasarkan layout path"
   ]
  },
  {
   "cell_type": "code",
   "execution_count": 6,
   "metadata": {},
   "outputs": [],
   "source": [
    "def transpose(xls_data, csv_wil_layoutpath, csv_cat_layoutpath, xls_data_output, print_process=\"True\"):\n",
    "    data_2008 = pd.read_excel(xls_data)\n",
    "    layoutpath_wilayah = pd.read_csv(csv_wil_layoutpath)\n",
    "    layoutpath_kategori = pd.read_csv(csv_cat_layoutpath)\n",
    "    \n",
    "    F1 = dtrans.transpose_wilayah(data_2008, layoutpath_wilayah)\n",
    "    if print_process:\n",
    "        print(\"Transpose wilayah done\")\n",
    "    \n",
    "    F2 = dtrans.transpose_kategori(F1, layoutpath_kategori)\n",
    "    if print_process:\n",
    "        print(\"Transpose kategori done\")\n",
    "    \n",
    "    F2.to_excel(xls_data_output, index = False)"
   ]
  },
  {
   "cell_type": "markdown",
   "metadata": {},
   "source": [
    "### Membentuk layout path untuk konversi data 2004 ke 2006\n",
    "\n",
    "Catatan: Layout path hasil data sains tidak 100% akurat, cek dahulu hasil output layout path sebelum melakukan transpose"
   ]
  },
  {
   "cell_type": "code",
   "execution_count": 7,
   "metadata": {},
   "outputs": [
    {
     "name": "stdout",
     "output_type": "stream",
     "text": [
      "Baca wilayah done\n",
      "Read & merge done\n",
      "Get similarities value done\n",
      "Get similarity score & match done\n",
      "Get recomendation done\n",
      "Send output done\n",
      "Baca kategori done\n",
      "Read & merge done\n",
      "Get similarities value done\n",
      "Get similarity score & match done\n",
      "Get recomendation done\n",
      "Send output done\n",
      "layoutpath 2004 ke 2006 done\n"
     ]
    }
   ],
   "source": [
    "#layoutpath 2004 ke 2006\n",
    "\n",
    "get_layoutpath_recomendation(\n",
    "    xls_wil_awal=\"2004-wilayah.xlsx\", \n",
    "    xls_wil_tujuan=\"2006-wilayah.xlsx\",\n",
    "    csv_wil_output=\"layoutpath_2004_to_2006_wilayah.csv\",\n",
    "    xls_cat_awal=\"2004-kategori.xlsx\", \n",
    "    xls_cat_tujuan=\"2006-kategori.xlsx\",\n",
    "    csv_cat_output=\"layoutpath_2004_to_2006_kategori.csv\"\n",
    ")\n",
    "\n",
    "minimize_layoutpath(\"layoutpath_2004_to_2006_wilayah.csv\", \"layoutpath_2004_to_2006_wilayah_min.csv\", \"layoutpath_2004_to_2006_kategori.csv\", \"layoutpath_2004_to_2006_kategori_min.csv\")\n",
    "\n",
    "os.remove(\"layoutpath_2004_to_2006_wilayah.csv\")\n",
    "os.remove(\"layoutpath_2004_to_2006_kategori.csv\")\n",
    "\n",
    "print(\"layoutpath 2004 ke 2006 done\")"
   ]
  },
  {
   "cell_type": "markdown",
   "metadata": {},
   "source": [
    "### Membentuk layout path untuk konversi data 2006 ke 2008\n",
    "\n",
    "Catatan: Layout path hasil data sains tidak 100% akurat, cek dahulu hasil output layout path sebelum melakukan transpose"
   ]
  },
  {
   "cell_type": "code",
   "execution_count": 8,
   "metadata": {},
   "outputs": [
    {
     "name": "stdout",
     "output_type": "stream",
     "text": [
      "Baca wilayah done\n",
      "Read & merge done\n",
      "Get similarities value done\n",
      "Get similarity score & match done\n",
      "Get recomendation done\n",
      "Send output done\n",
      "Baca kategori done\n",
      "Read & merge done\n",
      "Get similarities value done\n",
      "Get similarity score & match done\n",
      "Get recomendation done\n",
      "Send output done\n",
      "layoutpath 2006 ke 2008 done\n"
     ]
    }
   ],
   "source": [
    "#layoutpath 2006 ke 2008\n",
    "\n",
    "get_layoutpath_recomendation(\n",
    "    xls_wil_awal=\"2006-wilayah.xlsx\", \n",
    "    xls_wil_tujuan=\"2008-wilayah.xlsx\",\n",
    "    csv_wil_output=\"layoutpath_2006_to_2008_wilayah.csv\",\n",
    "    xls_cat_awal=\"2006-kategori.xlsx\", \n",
    "    xls_cat_tujuan=\"2008-kategori.xlsx\",\n",
    "    csv_cat_output=\"layoutpath_2006_to_2008_kategori.csv\"\n",
    ")\n",
    "\n",
    "minimize_layoutpath(\"layoutpath_2006_to_2008_wilayah.csv\", \"layoutpath_2006_to_2008_wilayah_min.csv\", \"layoutpath_2006_to_2008_kategori.csv\", \"layoutpath_2006_to_2008_kategori_min.csv\")\n",
    "\n",
    "os.remove(\"layoutpath_2006_to_2008_wilayah.csv\")\n",
    "os.remove(\"layoutpath_2006_to_2008_kategori.csv\")\n",
    "\n",
    "print(\"layoutpath 2006 ke 2008 done\")"
   ]
  },
  {
   "cell_type": "markdown",
   "metadata": {},
   "source": [
    "### Membentuk layout path untuk konversi data 2008 ke 2011\n",
    "\n",
    "Catatan: Layout path hasil data sains tidak 100% akurat, cek dahulu hasil output layout path sebelum melakukan transpose"
   ]
  },
  {
   "cell_type": "code",
   "execution_count": 9,
   "metadata": {},
   "outputs": [
    {
     "name": "stdout",
     "output_type": "stream",
     "text": [
      "Baca wilayah done\n",
      "Read & merge done\n",
      "Get similarities value done\n",
      "Get similarity score & match done\n",
      "Get recomendation done\n",
      "Send output done\n",
      "Baca kategori done\n",
      "Read & merge done\n",
      "Get similarities value done\n",
      "Get similarity score & match done\n",
      "Get recomendation done\n",
      "Send output done\n",
      "layoutpath 2008 ke 2011 done\n"
     ]
    }
   ],
   "source": [
    "#layoutpath 2008 ke 2011\n",
    "\n",
    "get_layoutpath_recomendation(\n",
    "    xls_wil_awal=\"2008-wilayah.xlsx\", \n",
    "    xls_wil_tujuan=\"2011-wilayah.xlsx\",\n",
    "    csv_wil_output=\"layoutpath_2008_to_2011_wilayah.csv\",\n",
    "    xls_cat_awal=\"2008-kategori.xlsx\", \n",
    "    xls_cat_tujuan=\"2011-kategori.xlsx\",\n",
    "    csv_cat_output=\"layoutpath_2008_to_2011_kategori.csv\"\n",
    ")\n",
    "\n",
    "minimize_layoutpath(\"layoutpath_2008_to_2011_wilayah.csv\", \"layoutpath_2008_to_2011_wilayah_min.csv\", \"layoutpath_2008_to_2011_kategori.csv\", \"layoutpath_2008_to_2011_kategori_min.csv\")\n",
    "\n",
    "os.remove(\"layoutpath_2008_to_2011_wilayah.csv\")\n",
    "os.remove(\"layoutpath_2008_to_2011_kategori.csv\")\n",
    "\n",
    "print(\"layoutpath 2008 ke 2011 done\")"
   ]
  },
  {
   "cell_type": "markdown",
   "metadata": {},
   "source": [
    "### Mentranspose data 2004 ke 2006"
   ]
  },
  {
   "cell_type": "code",
   "execution_count": 10,
   "metadata": {},
   "outputs": [
    {
     "name": "stdout",
     "output_type": "stream",
     "text": [
      "Transpose wilayah done\n",
      "Transpose kategori done\n",
      "tranpose 2004 ke 2006 done\n"
     ]
    }
   ],
   "source": [
    "#tranpose 2004 ke 2006\n",
    "transpose(\"2004-data.xlsx\", \"layoutpath_2004_to_2006_wilayah_min.csv\", \"layoutpath_2004_to_2006_kategori_min.csv\", \"2004-data format 2006.xlsx\")\n",
    "\n",
    "print(\"tranpose 2004 ke 2006 done\")"
   ]
  },
  {
   "cell_type": "markdown",
   "metadata": {},
   "source": [
    "### Mentranspose data 2006 ke 2008"
   ]
  },
  {
   "cell_type": "code",
   "execution_count": 11,
   "metadata": {},
   "outputs": [
    {
     "name": "stdout",
     "output_type": "stream",
     "text": [
      "Transpose wilayah done\n",
      "Transpose kategori done\n",
      "Transpose wilayah done\n",
      "Transpose kategori done\n",
      "tranpose 2006 ke 2008 done\n"
     ]
    }
   ],
   "source": [
    "#tranpose 2006 ke 2008\n",
    "transpose(\"2004-data format 2006.xlsx\", \"layoutpath_2006_to_2008_wilayah_min.csv\", \"layoutpath_2006_to_2008_kategori_min.csv\", \"2004-data format 2008.xlsx\")\n",
    "transpose(\"2006-data.xlsx\", \"layoutpath_2006_to_2008_wilayah_min.csv\", \"layoutpath_2006_to_2008_kategori_min.csv\", \"2006-data format 2008.xlsx\")\n",
    "\n",
    "print(\"tranpose 2006 ke 2008 done\")"
   ]
  },
  {
   "cell_type": "markdown",
   "metadata": {},
   "source": [
    "### Mentranspose data 2008 ke 2011"
   ]
  },
  {
   "cell_type": "code",
   "execution_count": 12,
   "metadata": {},
   "outputs": [
    {
     "name": "stdout",
     "output_type": "stream",
     "text": [
      "Transpose wilayah done\n",
      "Transpose kategori done\n",
      "Transpose wilayah done\n",
      "Transpose kategori done\n",
      "Transpose wilayah done\n",
      "Transpose kategori done\n",
      "tranpose 2008 ke 2011 done\n"
     ]
    }
   ],
   "source": [
    "#tranpose 2008 ke 2011\n",
    "transpose(\"2004-data format 2008.xlsx\", \"layoutpath_2008_to_2011_wilayah_min.csv\", \"layoutpath_2008_to_2011_kategori_min.csv\", \"2004-data format 2011.xlsx\")\n",
    "transpose(\"2006-data format 2008.xlsx\", \"layoutpath_2008_to_2011_wilayah_min.csv\", \"layoutpath_2008_to_2011_kategori_min.csv\", \"2006-data format 2011.xlsx\")\n",
    "transpose(\"2008-data.xlsx\", \"layoutpath_2008_to_2011_wilayah_min.csv\", \"layoutpath_2008_to_2011_kategori_min.csv\", \"2008-data format 2011.xlsx\")\n",
    "\n",
    "print(\"tranpose 2008 ke 2011 done\")"
   ]
  },
  {
   "cell_type": "code",
   "execution_count": null,
   "metadata": {},
   "outputs": [],
   "source": []
  }
 ],
 "metadata": {
  "kernelspec": {
   "display_name": "Python 3",
   "language": "python",
   "name": "python3"
  },
  "language_info": {
   "codemirror_mode": {
    "name": "ipython",
    "version": 3
   },
   "file_extension": ".py",
   "mimetype": "text/x-python",
   "name": "python",
   "nbconvert_exporter": "python",
   "pygments_lexer": "ipython3",
   "version": "3.8.3"
  }
 },
 "nbformat": 4,
 "nbformat_minor": 4
}
