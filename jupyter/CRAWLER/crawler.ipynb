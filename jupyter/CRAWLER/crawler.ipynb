{
 "cells": [
  {
   "cell_type": "code",
   "execution_count": 53,
   "metadata": {},
   "outputs": [],
   "source": [
    "#IMPORT LIBRARY UNTUK CRAWLER"
   ]
  },
  {
   "cell_type": "code",
   "execution_count": null,
   "metadata": {},
   "outputs": [],
   "source": [
    "#LIBRARY BASEPATH DAN JUGA COMMANDPROMPT\n",
    "import os\n",
    "#LIBRARY CRAWLER\n",
    "import crawler as cl"
   ]
  },
  {
   "cell_type": "code",
   "execution_count": null,
   "metadata": {},
   "outputs": [],
   "source": [
    "#LIST WEB YANG MAU DIAMBIL DATANYA\n",
    "webdir = str(\"list:https://bappenas.go.id, https://internetslim.com, https://big.go.id\")\n",
    "#EXTENTION YANG INGIN DIAMBIL \n",
    "extention = str(\"pdf docx xlsx pptx doc xls ppt jpg png\")\n",
    "\n",
    "#JALANNYA FUNGSI CRAWLER\n",
    "os.system('python crawler.py -f -u '+webdir+' -e '+extention+' -d \"output\"')"
   ]
  }
 ],
 "metadata": {
  "kernelspec": {
   "display_name": "Python 3",
   "language": "python",
   "name": "python3"
  },
  "language_info": {
   "codemirror_mode": {
    "name": "ipython",
    "version": 3
   },
   "file_extension": ".py",
   "mimetype": "text/x-python",
   "name": "python",
   "nbconvert_exporter": "python",
   "pygments_lexer": "ipython3",
   "version": "3.8.3"
  }
 },
 "nbformat": 4,
 "nbformat_minor": 4
}
