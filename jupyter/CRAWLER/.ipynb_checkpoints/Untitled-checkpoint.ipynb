{
 "cells": [
  {
   "cell_type": "code",
   "execution_count": 48,
   "metadata": {},
   "outputs": [],
   "source": [
    "import os\n",
    "import crawler as cl"
   ]
  },
  {
   "cell_type": "code",
   "execution_count": 50,
   "metadata": {},
   "outputs": [
    {
     "data": {
      "text/plain": [
       "b'[2020/12/02 15:01:23] No more results. Exiting.\\r\\n'"
      ]
     },
     "execution_count": 50,
     "metadata": {},
     "output_type": "execute_result"
    }
   ],
   "source": [
    "webdir = str(\"list:https://bappenas.go.id, https://internetslim.com, https://big.go.id\")\n",
    "extention = str(\"pdf docx xlsx pptx doc xls ppt jpg png\")\n",
    "             \n",
    "    #python crawler.py -f -u \"list:https://bappenas.go.id, https://internetslim.com\" -e \"pdf docx xlsx pptx doc xls ppt\" -d \"output\"\n",
    "os.system('python crawler.py -f -u '+webdir+' -e '+extention+' -d \"output\"')"
   ]
  },
  {
   "cell_type": "code",
   "execution_count": null,
   "metadata": {},
   "outputs": [],
   "source": []
  }
 ],
 "metadata": {
  "kernelspec": {
   "display_name": "Python 3",
   "language": "python",
   "name": "python3"
  },
  "language_info": {
   "codemirror_mode": {
    "name": "ipython",
    "version": 3
   },
   "file_extension": ".py",
   "mimetype": "text/x-python",
   "name": "python",
   "nbconvert_exporter": "python",
   "pygments_lexer": "ipython3",
   "version": "3.8.3"
  }
 },
 "nbformat": 4,
 "nbformat_minor": 4
}
