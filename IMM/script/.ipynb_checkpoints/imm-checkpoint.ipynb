{
 "cells": [
  {
   "cell_type": "code",
   "execution_count": 1,
   "metadata": {},
   "outputs": [],
   "source": [
    "import pandas as pd\n",
    "from sqlalchemy import create_engine\n",
    "import os\n",
    "import psycopg2\n",
    "from psycopg2.extensions import ISOLATION_LEVEL_AUTOCOMMIT"
   ]
  },
  {
   "cell_type": "code",
   "execution_count": 2,
   "metadata": {},
   "outputs": [],
   "source": [
    "def uploadToPSQL(columns, table, filePath, engine):\n",
    "    df = pd.read_csv(\n",
    "        os.path.abspath(filePath),\n",
    "        names=columns,\n",
    "        skiprows=1, \n",
    "        header=None,\n",
    "        keep_default_na=False,\n",
    "        encoding='utf-8'\n",
    "    )\n",
    "    \n",
    "    df.fillna('')\n",
    "    newsid= df['news_id']\n",
    "    newscode= df['news_code']\n",
    "    newslink= df['news_link']\n",
    "    newsdate= df['news_date']\n",
    "    newstitle= df['news_title']\n",
    "    newscontent = df['news_content'].str.replace('<[^<]+?>', ' ')\n",
    "    arrayfind = ['cukai', 'pemerintahan', 'kementr']\n",
    "    wilayah = \"\"\n",
    "    strfind = ', '.join(arrayfind)\n",
    "    arraycontent = []\n",
    "    datafix = [list(list(x) for x in zip(newsid, newscode, newslink, newsdate, newstitle, newscontent))]\n",
    "    \n",
    "    for newscontent in datafix[0]:\n",
    "        x = newscontent[5].split('.')\n",
    "        matching = [s for s in x if any(xs in s for xs in arrayfind)]\n",
    "        if matching != []:\n",
    "            if len(matching) > 1:\n",
    "                for matcharray in matching:\n",
    "                    arraycontent.append(tuple([matcharray, newscontent[0], newscontent[1], newscontent[2], newscontent[3], newscontent[4], strfind, wilayah]))\n",
    "            else:\n",
    "                arraycontent.append(tuple([str(matching)[2:-2], newscontent[0], newscontent[1], newscontent[2], newscontent[3], newscontent[4], strfind, wilayah]))\n",
    "    rawstr = str(arraycontent)[1:-1]\n",
    "    try:\n",
    "        connection = psycopg2.connect(user=username,password=password,host=host,port=port,database=database)\n",
    "        cursor = connection.cursor()\n",
    "        connection.set_isolation_level(ISOLATION_LEVEL_AUTOCOMMIT);\n",
    "        cursor.execute(\"SELECT * FROM information_schema.tables where table_name=%s\", (table,))\n",
    "        exist = bool(cursor.rowcount)\n",
    "        if exist == True:\n",
    "            cursor.execute(\"DROP TABLE \"+ table + \" CASCADE\")\n",
    "            cursor.execute(\"CREATE TABLE \"+table+\" (index SERIAL, news_id varchar, news_code varchar, news_link varchar, news_date date, news_title varchar, news_content varchar, keyword varchar, wilayah varchar);\")\n",
    "        else:\n",
    "            cursor.execute(\"CREATE TABLE \"+table+\" (index SERIAL, news_id varchar, news_code varchar, news_link varchar, news_date date, news_title varchar, news_content varchar, keyword varchar, wilayah varchar);\")\n",
    "            \n",
    "        cursor.execute('INSERT INTO '+table+'(news_content, news_id, news_code, news_link, news_date, news_title, keyword, wilayah) values ' +rawstr)\n",
    "        \n",
    "        return len(arraycontent)  \n",
    "        \n",
    "    except (Exception, psycopg2.Error) as error :\n",
    "        return error\n",
    "    \n",
    "    finally:\n",
    "        if(connection):\n",
    "            cursor.close()\n",
    "            connection.close()"
   ]
  },
  {
   "cell_type": "code",
   "execution_count": 3,
   "metadata": {},
   "outputs": [
    {
     "name": "stdout",
     "output_type": "stream",
     "text": [
      "Success, Total Data : 12\n"
     ]
    }
   ],
   "source": [
    "columns = [\n",
    "    \"news_id\",\n",
    "    \"news_code\",\n",
    "    \"news_type\",\n",
    "    \"news_link\",\n",
    "    \"media_displayName\",\n",
    "    \"news_date\",\n",
    "    \"news_title\",\n",
    "    \"news_content\",\n",
    "    \"news_image\",\n",
    "    \"news_urlimage\",\n",
    "    \"news_created_date\",\n",
    "]\n",
    "\n",
    "host = \"localhost\"\n",
    "username = \"postgres\"\n",
    "password = \"1234567890\"\n",
    "port = \"5432\"\n",
    "database = \"imm\"\n",
    "table = 'newsimm'\n",
    "filePath = 'C:/Users/ASUS/Documents/bappenas/IMM/news.csv';\n",
    "engine = create_engine('postgresql://'+username+':'+password+'@'+host+':'+port+'/'+database)\n",
    "\n",
    "checkUpload = uploadToPSQL(columns, table, filePath, engine)\n",
    "if checkUpload != False:\n",
    "    print(\"Success, Total Data : \" + str(checkUpload))\n",
    "else:\n",
    "    print(\"Error When Upload CSV\")"
   ]
  },
  {
   "cell_type": "code",
   "execution_count": null,
   "metadata": {},
   "outputs": [],
   "source": []
  }
 ],
 "metadata": {
  "kernelspec": {
   "display_name": "Python 3",
   "language": "python",
   "name": "python3"
  },
  "language_info": {
   "codemirror_mode": {
    "name": "ipython",
    "version": 3
   },
   "file_extension": ".py",
   "mimetype": "text/x-python",
   "name": "python",
   "nbconvert_exporter": "python",
   "pygments_lexer": "ipython3",
   "version": "3.8.3"
  }
 },
 "nbformat": 4,
 "nbformat_minor": 4
}
