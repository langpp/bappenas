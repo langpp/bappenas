{
 "cells": [
  {
   "cell_type": "code",
   "execution_count": 7,
   "metadata": {},
   "outputs": [],
   "source": [
    "#IMPORT SEMUA PLUGIN"
   ]
  },
  {
   "cell_type": "code",
   "execution_count": 8,
   "metadata": {},
   "outputs": [],
   "source": [
    "import pandas as pd\n",
    "import psycopg2\n",
    "from matplotlib import pyplot as plt\n",
    "from matplotlib import style\n",
    "from fpdf import FPDF\n",
    "import io\n",
    "import base64\n",
    "import json\n",
    "import requests\n",
    "from datetime import timedelta, date\n",
    "from sqlalchemy import create_engine\n",
    "import xlsxwriter \n",
    "from sqlalchemy import create_engine"
   ]
  },
  {
   "cell_type": "code",
   "execution_count": 9,
   "metadata": {},
   "outputs": [],
   "source": [
    "#FUNGSI DATERANGE"
   ]
  },
  {
   "cell_type": "code",
   "execution_count": 10,
   "metadata": {},
   "outputs": [],
   "source": [
    "def daterange(date1, date2):\n",
    "    for n in range(int ((date2 - date1).days)+1):\n",
    "        yield date1 + timedelta(n)"
   ]
  },
  {
   "cell_type": "code",
   "execution_count": 11,
   "metadata": {},
   "outputs": [],
   "source": [
    "#FUNGSI MENCARI JENIS MARKET BERDASARKAN ID"
   ]
  },
  {
   "cell_type": "code",
   "execution_count": 12,
   "metadata": {},
   "outputs": [],
   "source": [
    "def markettype(numofvalue):\n",
    "    number = ['1','2','3','4']\n",
    "    name = ['Pasar Tradisional','Pasar Moderen','Pedagang Besar','Produsen']\n",
    "    out = dict(zip(number, name))\n",
    "    return out[numofvalue]"
   ]
  },
  {
   "cell_type": "code",
   "execution_count": 13,
   "metadata": {},
   "outputs": [],
   "source": [
    "#FUNGSI MENCARI NAMA COMMODITY BERDASARKAN ID"
   ]
  },
  {
   "cell_type": "code",
   "execution_count": 14,
   "metadata": {},
   "outputs": [],
   "source": [
    "def comodityname(numofvalue):\n",
    "    number = ['1','2','3','4','5','6','7','8','9','10']\n",
    "    name = ['Bawang Merah','Bawang Putih','Beras','Cabai Merah','Cabai Rawit','Daging Ayam','Daging Sapi','Gula Pasir','Minyak Goreng','Telur Ayam']\n",
    "    out = dict(zip(number, name))\n",
    "    return out[numofvalue]"
   ]
  },
  {
   "cell_type": "code",
   "execution_count": 15,
   "metadata": {},
   "outputs": [],
   "source": [
    "#FUNGSI MENCARI QUALITY BERDASARKAN ID"
   ]
  },
  {
   "cell_type": "code",
   "execution_count": 16,
   "metadata": {},
   "outputs": [],
   "source": [
    "def qualityname(numofvalue):\n",
    "    number = ['20','1','2','3','4','5','6','17','18','19','88','16','14','15','27','39','7','8','9','16']\n",
    "    name = ['Ukuran Sedang','Beras Kualitas Medium I','Beras Kualitas Medium II','Beras Kualitas Super I','Beras Kualitas Super II','Beras Kualitas Bawah I','Beras Kualitas Bawah II','Cabai Merah Besar','Cabai Merah Keriting','Cabai Rawit Hijau','Cabai Rawit Merah','Daging Ayam Ras Segar','Daging Sapi Kualitas 1','Daging Sapi Kualitas 2','Gula Pasir Lokal','Gula Pasir Kualitas Premium','Minyak Goreng Curah','Minyak Goreng Kemasan Bermerk 1','Minyak Goreng Kemasan Bermerk 2','Telur Ayam Ras Segar']\n",
    "    out = dict(zip(number, name))\n",
    "    return out[numofvalue]"
   ]
  },
  {
   "cell_type": "code",
   "execution_count": 17,
   "metadata": {},
   "outputs": [],
   "source": [
    "#FUNGSI UPLOAD KE PSQL DATA MARKET"
   ]
  },
  {
   "cell_type": "code",
   "execution_count": 52,
   "metadata": {},
   "outputs": [],
   "source": [
    "def uploadToPSQL(host, username, password, database, port, table, judul, name, subjudul, province_id, basePath):\n",
    "    headers = {\n",
    "        \"Authorization\": \"0bd7b7f5164e6497543c93db6080fa5ff90746467fc915438e6004524a86b743ae91abbe7bd376f4bcda49685c78ff52d122b00cc3437f0af182685d5d24aabdrhSH6PH2pSOdOtLsaNZV8SeQFrfLwmVbMCbmDqVBijQ8Q2Nlni7eWioxBbzo+LPg\"\n",
    "    }\n",
    "    cnumber = ['1','2','3','4','5','6','7','8','9','10']\n",
    "    qnumber = ['20','1','2','3','4','5','6','17','18','19','88','16','14','15','27','39','7','8','9','16']\n",
    "    req1 = requests.get('http://api.bappenas.go.id/bus/api/domain/newpihps/getIntegrationMarkets?province_id='+province_id, headers=headers).json()\n",
    "    df1 = pd.json_normalize(data = req1)\n",
    "    result = df1.to_json(orient=\"table\")\n",
    "    parsed = json.loads(result)\n",
    "    df2 = pd.json_normalize(data = parsed['data'], record_path = 'data')\n",
    "    \n",
    "    result1 = df2.to_json(orient=\"table\")\n",
    "    \n",
    "    for cn in cnumber:\n",
    "        for qn in qnumber:\n",
    "            parsed1 = json.loads(result1)\n",
    "            df3 = pd.json_normalize(data = parsed1['data'], meta =['market_id', 'market_desc', 'seller_count', 'price_type_id', 'region_id', 'region_desc'])\n",
    "            df3 = df3[['market_id', 'market_desc', 'seller_count', 'price_type_id', 'region_id', 'region_desc']]\n",
    "            \n",
    "            df3.index = df3.index + 1\n",
    "           \n",
    "            df3['market_id'] = df3['market_id'].astype('int64')\n",
    "            df3['commodity_id'] = cn\n",
    "            df3['quality_id'] = qn\n",
    "            df3\n",
    "            uri = 'postgresql://'+username+':'+password+'@'+host+':'+port+'/'+database\n",
    "            engine = create_engine(uri)\n",
    "            \n",
    "            #df3.to_sql(table, con = engine, if_exists='append')\n",
    "    return True"
   ]
  },
  {
   "cell_type": "code",
   "execution_count": 53,
   "metadata": {},
   "outputs": [],
   "source": [
    "#FUNGSI UPLOAD KE PSQL DATA PRICE"
   ]
  },
  {
   "cell_type": "code",
   "execution_count": 54,
   "metadata": {},
   "outputs": [],
   "source": [
    "def uploadToPSQLprice(host, username, password, database, port, table, table2, judul, name, subjudul, province_id, basePath):\n",
    "    responses1 = []\n",
    "    start_dt = date(2020, 11, 10)\n",
    "    end_dt = date(2020, 11, 26)\n",
    "    rangtanggalheader = str(start_dt) + ' - ' + str(end_dt)\n",
    "    headers = {\n",
    "        \"Authorization\": \"0bd7b7f5164e6497543c93db6080fa5ff90746467fc915438e6004524a86b743ae91abbe7bd376f4bcda49685c78ff52d122b00cc3437f0af182685d5d24aabdrhSH6PH2pSOdOtLsaNZV8SeQFrfLwmVbMCbmDqVBijQ8Q2Nlni7eWioxBbzo+LPg\"\n",
    "    }\n",
    "\n",
    "    for dt in daterange(start_dt, end_dt):   \n",
    "        req1 = requests.get('http://api.bappenas.go.id/bus/api/domain/newpihps/getIntegrationprices?province_id='+province_id+'&period='+dt.strftime(\"%Y-%m-%d\"), headers=headers).json()\n",
    "        responses1.append(req1)\n",
    "    \n",
    "    df1 = pd.json_normalize(data = req1)\n",
    "    result = df1.to_json(orient=\"table\")\n",
    "    parsed = json.loads(result)\n",
    "    df2 = pd.json_normalize(data = parsed['data'], record_path = 'data')\n",
    "    result1 = df2.to_json(orient=\"table\")\n",
    "    parsed1 = json.loads(result1)\n",
    "    \n",
    "    df3 = pd.json_normalize(data = parsed1['data'], record_path = 'details', meta =['market_id', 'date', 'inputted', 'validated'])\n",
    "    df3 = df3[['date','inputted','validated','market_id','commodity_id','quality_id','price']]\n",
    "    df3.index = df3.index + 1\n",
    "    df3['market_id'] = df3['market_id'].astype('int64')\n",
    "    df3\n",
    "    \n",
    "    uri = 'postgresql://'+username+':'+password+'@'+host+':'+port+'/'+database\n",
    "    engine = create_engine(uri)\n",
    "    \n",
    "    #df3.to_sql(table2, con = engine,  if_exists='replace')\n",
    "    makeChart(host, username, password, database, port, table, table2, judul, name, subjudul, rangtanggalheader, basePath)\n",
    "    return True"
   ]
  },
  {
   "cell_type": "code",
   "execution_count": 55,
   "metadata": {},
   "outputs": [],
   "source": [
    "#FUNGSI UNTUK MEMBUAT CHART"
   ]
  },
  {
   "cell_type": "code",
   "execution_count": 75,
   "metadata": {},
   "outputs": [],
   "source": [
    "def makeChart(host, username, password, db, port, table, table2, judul, name, subjudul, rangtanggalheader, basePath):\n",
    "    try:        \n",
    "        connection = psycopg2.connect(user=username,password=password,host=host,port=port,database=db)\n",
    "        cursor = connection.cursor()\n",
    "        postgreSQL_select_Query = \"SELECT DISTINCT a.market_id, a.commodity_id, a.quality_id, a.market_desc, a.price_type_id, a.region_id, a.region_desc FROM \"+table+\" AS a WHERE a.price_type_id != 1 ORDER BY a.market_id, a.commodity_id, a.quality_id ASC\"\n",
    "        \n",
    "        cursor.execute(postgreSQL_select_Query)\n",
    "        mobile_records = cursor.fetchall() \n",
    "        datapush = []\n",
    "        \n",
    "        for row in mobile_records:\n",
    "            datasame = []\n",
    "            #market_name = marketname(str(row[0]))\n",
    "            postgreSQL_select_Query2 = \"SELECT date, price, market_id, commodity_id, quality_id FROM \"+table2+\" WHERE market_id='\"+str(row[0])+\"' AND  commodity_id='\"+str(row[1])+\"' AND quality_id='\"+str(row[2])+\"' ORDER BY market_id, commodity_id, quality_id ASC\"\n",
    "            cursor.execute(postgreSQL_select_Query2)\n",
    "            datarowarray = cursor.fetchall() \n",
    "                \n",
    "            for rowdate in datarowarray:\n",
    "                if str(row[0]) == str(rowdate[2]) and str(row[1]) == str(rowdate[3]) and str(row[2]) == str(rowdate[4]):\n",
    "                    datasame.append(rowdate)\n",
    "                    \n",
    "            if datarowarray:\n",
    "                comodity_name = comodityname(row[1])\n",
    "                quality_name = qualityname(row[2])\n",
    "                datapush.append(list([row[0], row[3], markettype(str(row[4])), row[5], row[6], comodity_name, quality_name, datasame]))\n",
    "                uid = []\n",
    "                lengthx = []\n",
    "                lengthy = []\n",
    "                i = 0\n",
    "                for chartrow in datasame:\n",
    "                    i += 1\n",
    "                    lengthx.append(chartrow[0])\n",
    "                    lengthy.append(chartrow[1])\n",
    "                    uid.append(i)\n",
    "                #bar\n",
    "                style.use('ggplot')\n",
    "           \n",
    "                fig, ax = plt.subplots()\n",
    "                \n",
    "                ax.bar(uid, lengthy, align='center')\n",
    "                ax.set_title(judul+' '+row[3]+' '+comodity_name+' '+quality_name)\n",
    "                ax.set_ylabel('Price')\n",
    "                ax.set_xlabel('Tanggal')\n",
    "                ax.set_xticks(uid)\n",
    "                ax.set_xticklabels((lengthx))\n",
    "                b = io.BytesIO()\n",
    "                plt.savefig(b, format='png', bbox_inches=\"tight\")\n",
    "                \n",
    "                barChart = base64.b64encode(b.getvalue()).decode(\"utf-8\").replace(\"\\n\", \"\")\n",
    "                plt.show()\n",
    "                \n",
    "                #line\n",
    "                plt.plot(lengthx, lengthy)\n",
    "                plt.xlabel('Price')\n",
    "                plt.ylabel('Total')\n",
    "            \n",
    "                plt.title(judul+' '+row[3]+' '+comodity_name+' '+quality_name)\n",
    "                plt.grid(True)\n",
    "                l = io.BytesIO()\n",
    "                plt.savefig(l, format='png', bbox_inches=\"tight\")\n",
    "                \n",
    "                lineChart = base64.b64encode(l.getvalue()).decode(\"utf-8\").replace(\"\\n\", \"\")\n",
    "                plt.show()\n",
    "                \n",
    "                #pie\n",
    "                plt.title(judul+' '+row[3]+' '+comodity_name+' '+quality_name)\n",
    "                plt.pie(lengthy, labels=lengthx, autopct='%1.1f%%', \n",
    "                shadow=True, startangle=180)\n",
    "            \n",
    "                plt.axis('equal')\n",
    "                p = io.BytesIO()\n",
    "                plt.savefig(p, format='png', bbox_inches=\"tight\")\n",
    "                \n",
    "                pieChart = base64.b64encode(p.getvalue()).decode(\"utf-8\").replace(\"\\n\", \"\")\n",
    "                plt.show()\n",
    "                \n",
    "                bardata = base64.b64decode(barChart)\n",
    "                barname = basePath+'img/'+row[3]+' '+comodity_name+' '+quality_name+'-bar.png'\n",
    "                with open(barname, 'wb') as f:\n",
    "                    f.write(bardata)\n",
    "                \n",
    "                linedata = base64.b64decode(lineChart)\n",
    "                linename = basePath+'img/'+row[3]+' '+comodity_name+' '+quality_name+'-line.png'\n",
    "                with open(linename, 'wb') as f:\n",
    "                    f.write(linedata)\n",
    "                    \n",
    "                piedata = base64.b64decode(pieChart)\n",
    "                piename = basePath+'img/'+row[3]+' '+comodity_name+' '+quality_name+'-pie.png'\n",
    "                with open(piename, 'wb') as f:\n",
    "                    f.write(piedata)\n",
    "        makePDF(rangtanggalheader, datapush, judul, name, subjudul, basePath)  \n",
    "        makeExcel(rangtanggalheader, datapush, judul, name, subjudul, basePath)\n",
    "            \n",
    "        \n",
    "    except (Exception, psycopg2.Error) as error :\n",
    "        print (error)\n",
    "\n",
    "    finally:\n",
    "        if(connection):\n",
    "            cursor.close()\n",
    "            connection.close()"
   ]
  },
  {
   "cell_type": "code",
   "execution_count": 76,
   "metadata": {},
   "outputs": [],
   "source": [
    "#FUNGSI UNTUK MEMBUAT PDF"
   ]
  },
  {
   "cell_type": "code",
   "execution_count": 77,
   "metadata": {},
   "outputs": [],
   "source": [
    "def makePDF(rangtanggalheader, datarow, judul, name, subjudul, basePath):\n",
    "    pdf = FPDF()\n",
    "    pdf = FPDF('L', 'mm', [210,297])\n",
    "    pdf.add_page()\n",
    "    pdf.set_font('helvetica', 'B', 20.0)\n",
    "    pdf.set_xy(145.0, 15.0)\n",
    "    pdf.cell(ln=0, h=2.0, align='C', w=10.0, txt=judul, border=0)\n",
    "    \n",
    "    pdf.set_font('arial', '', 14.0)\n",
    "    pdf.set_xy(145.0, 25.0)\n",
    "    pdf.cell(ln=0, h=2.0, align='C', w=10.0, txt=subjudul, border=0)\n",
    "    pdf.line(10.0, 30.0, 287.0, 30.0)\n",
    "    pdf.set_font('times', '', 10.0)\n",
    "    pdf.set_xy(17.0, 37.0)\n",
    "    \n",
    "    pdf.set_font('Times','',10.0) \n",
    "    pdf.set_font('Times','B',10.0) \n",
    "    pdf.ln(0.5)\n",
    "    th1 = pdf.font_size\n",
    "\n",
    "    pdf.cell(100, 2*th1, \"Tanggal\", border=1, align='C')\n",
    "    pdf.cell(177, 2*th1, rangtanggalheader, border=1, align='C')\n",
    "    pdf.ln(2*th1)\n",
    "    pdf.cell(100, 2*th1, \"Jenis Market\", border=1, align='C')\n",
    "    pdf.cell(177, 2*th1, 'Pasar Non Tradisional', border=1, align='C')\n",
    "    pdf.ln(2*th1)\n",
    "    \n",
    "    pdf.set_xy(17.0, 55.0)\n",
    "    pdf.set_font('Times','',10.0) \n",
    "    \n",
    "    epw = pdf.w - 2*pdf.l_margin\n",
    "    col_width = epw/2\n",
    "    \n",
    "    pdf.set_font('Times','B',8.0) \n",
    "    th = pdf.font_size\n",
    "    pdf.ln(2*th)\n",
    "    \n",
    "    pdf.cell(20, 2*th, \"Market ID\", border=1, align='C')\n",
    "    pdf.cell(60, 2*th, \"Market\", border=1, align='C')\n",
    "    pdf.cell(50, 2*th, \"Jenis Market\", border=1, align='C')\n",
    "    pdf.cell(40, 2*th, \"Region ID\", border=1, align='C')\n",
    "    pdf.cell(40, 2*th, \"Region\", border=1, align='C')\n",
    "    pdf.cell(40, 2*th, \"Komoditas\", border=1, align='C')\n",
    "    pdf.cell(40, 2*th, \"Kualitas\", border=1, align='C')\n",
    "    for dt in datarow[0][7]:\n",
    "        pdf.cell(40, 2*th, dt[0], border=1, align='C')\n",
    "    pdf.ln(2*th1)\n",
    "    \n",
    "    pdf.set_font('Arial','',7)\n",
    "    th = pdf.font_size\n",
    "    for data in datarow:\n",
    "        pdf.cell(20, 2*th, str(data[0]), border=1, align='C')\n",
    "        pdf.cell(60, 2*th, str(data[1]), border=1, align='C')\n",
    "        pdf.cell(50, 2*th, str(data[2]), border=1, align='C')\n",
    "        pdf.cell(40, 2*th, str(data[3]), border=1, align='C')\n",
    "        pdf.cell(40, 2*th, str(data[4]), border=1, align='C')\n",
    "        pdf.cell(40, 2*th, str(data[5]), border=1, align='C')\n",
    "        pdf.cell(40, 2*th, str(data[6]), border=1, align='C')\n",
    "        for dc in data[7]:\n",
    "            pdf.cell(40, 2*th, str(dc[1]), border=1, align='C')\n",
    "        pdf.ln(2*th)\n",
    "    \n",
    "    for datachart in datarow:\n",
    "        pdf.add_page()\n",
    "        col = pdf.w - 2*pdf.l_margin\n",
    "        pdf.ln(2*th)\n",
    "        widthcol = col/3\n",
    "        pdf.image(basePath+'img/'+datachart[1]+' '+datachart[5]+' '+datachart[6]+'-bar.png', link='', type='',x=8, y=80, w=widthcol)\n",
    "        pdf.set_xy(17.0, 144.0)\n",
    "        col = pdf.w - 2*pdf.l_margin\n",
    "        pdf.image(basePath+'img/'+datachart[1]+' '+datachart[5]+' '+datachart[6]+'-line.png', link='', type='',x=103, y=80, w=widthcol)\n",
    "        pdf.set_xy(17.0, 144.0)\n",
    "        col = pdf.w - 2*pdf.l_margin\n",
    "        pdf.image(basePath+'img/'+datachart[1]+' '+datachart[5]+' '+datachart[6]+'-pie.png', link='', type='',x=195, y=80, w=widthcol)\n",
    "        pdf.ln(4*th)\n",
    "    \n",
    "    pdf.output(basePath+'pdf/'+name+ ' ' +rangtanggalheader+'.pdf', 'F')"
   ]
  },
  {
   "cell_type": "code",
   "execution_count": 78,
   "metadata": {},
   "outputs": [],
   "source": [
    "#FUNGSI UNTUK MEMBUAT EXCEL"
   ]
  },
  {
   "cell_type": "code",
   "execution_count": 79,
   "metadata": {},
   "outputs": [],
   "source": [
    "def makeExcel(rangtanggalheader, datarow, judul, name, subjudul, basePath):\n",
    "    workbook = xlsxwriter.Workbook(basePath+'excel/'+name+ ' ' +rangtanggalheader+'.xlsx')\n",
    "    worksheet = workbook.add_worksheet('name')\n",
    "    row1 = workbook.add_format({'border': 2, 'bold': 1})\n",
    "    row2 = workbook.add_format({'border': 2})\n",
    "    w = 0\n",
    "    header = [\"Market ID\",\"Market\",\"Jenis Market\",\"Region ID\",\"Region\",\"Komoditas\",\"Kualitas\"]\n",
    "    \n",
    "    for dt in datarow[0][7]:\n",
    "        header.append(dt[0])   \n",
    "    for col_num, data in enumerate(header):\n",
    "        worksheet.write(0, col_num, data, row1)\n",
    "            \n",
    "    for data in datarow:\n",
    "        w+=1\n",
    "        body = [data[0], data[1], data[2], data[3], data[4], data[5], data[6]]\n",
    "        for dc in data[7]:\n",
    "            body.append(str(dc[1]))\n",
    "            \n",
    "        for col_num, data in enumerate(body):\n",
    "            worksheet.write(w, col_num, data, row2)\n",
    "    workbook.close()"
   ]
  },
  {
   "cell_type": "code",
   "execution_count": 80,
   "metadata": {},
   "outputs": [],
   "source": [
    "#MENDEFINISIKAN SEMUA VARIABEL"
   ]
  },
  {
   "cell_type": "code",
   "execution_count": 81,
   "metadata": {},
   "outputs": [
    {
     "data": {
      "image/png": "[encoded data removed]",
      "text/plain": [
       "<Figure size 432x288 with 1 Axes>"
      ]
     },
     "metadata": {},
     "output_type": "display_data"
    },
    {
     "data": {
      "image/png": "[encoded data removed]",
      "text/plain": [
       "<Figure size 432x288 with 1 Axes>"
      ]
     },
     "metadata": {},
     "output_type": "display_data"
    },
    {
     "data": {
      "image/png": "[encoded data removed]",
      "text/plain": [
       "<Figure size 432x288 with 1 Axes>"
      ]
     },
     "metadata": {},
     "output_type": "display_data"
    },
    {
     "name": "stdout",
     "output_type": "stream",
     "text": [
      "Running PHIPS Script\n"
     ]
    }
   ],
   "source": [
    "name = \"Pasar Non Tradisional\"\n",
    "host = \"localhost\"\n",
    "username = \"postgres\"\n",
    "password = \"1234567890\"\n",
    "port = \"5432\"\n",
    "database = \"pihps\"\n",
    "table = \"pihps_2\"\n",
    "table2 = \"price_pihps_2\"\n",
    "judul = \"Data Pasar Non Tradisional\"\n",
    "subjudul = \"Badan Perencanaan Pembangunan Nasional\"\n",
    "province_id = '11'\n",
    "basePath = 'C:/Users/ASUS/Documents/bappenas/PIHPS/'\n",
    "\n",
    "sql = uploadToPSQL(host, username, password, database, port, table, judul, name, subjudul, province_id, basePath)\n",
    "price = uploadToPSQLprice(host, username, password, database, port, table, table2, judul, name, subjudul, province_id, basePath)\n",
    "if sql == True and price == True:\n",
    "    print('Running PHIPS Script')\n",
    "else:\n",
    "    print(sql)"
   ]
  },
  {
   "cell_type": "code",
   "execution_count": null,
   "metadata": {},
   "outputs": [],
   "source": []
  }
 ],
 "metadata": {
  "kernelspec": {
   "display_name": "Python 3",
   "language": "python",
   "name": "python3"
  },
  "language_info": {
   "codemirror_mode": {
    "name": "ipython",
    "version": 3
   },
   "file_extension": ".py",
   "mimetype": "text/x-python",
   "name": "python",
   "nbconvert_exporter": "python",
   "pygments_lexer": "ipython3",
   "version": "3.8.3"
  }
 },
 "nbformat": 4,
 "nbformat_minor": 4
}
